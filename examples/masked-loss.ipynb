{
 "cells": [
  {
   "cell_type": "code",
   "execution_count": 22,
   "metadata": {},
   "outputs": [
    {
     "data": {
      "text/plain": [
       "generate_toy_data (generic function with 1 method)"
      ]
     },
     "execution_count": 22,
     "metadata": {},
     "output_type": "execute_result"
    }
   ],
   "source": [
    "using ConvolutionalFactorizations\n",
    "using Random\n",
    "using LinearAlgebra\n",
    "using Plots\n",
    "\n",
    "include(\"../datasets/toy.jl\")"
   ]
  },
  {
   "cell_type": "code",
   "execution_count": 23,
   "metadata": {},
   "outputs": [
    {
     "data": {
      "image/svg+xml": [
       "<?xml version=\"1.0\" encoding=\"utf-8\"?>\n",
       "<svg xmlns=\"http://www.w3.org/2000/svg\" xmlns:xlink=\"http://www.w3.org/1999/xlink\" width=\"1000\" height=\"200\" viewBox=\"0 0 4000 800\">\n",
       "<defs>\n",
       "  <clipPath id=\"clip750\">\n",
       "    <rect x=\"0\" y=\"0\" width=\"4000\" height=\"800\"/>\n",
       "  </clipPath>\n",
       "</defs>\n",
       "<path clip-path=\"url(#clip750)\" d=\"\n",
       "M0 800 L4000 800 L4000 0 L0 0  Z\n",
       "  \" fill=\"#ffffff\" fill-rule=\"evenodd\" fill-opacity=\"1\"/>\n",
       "<defs>\n",
       "  <clipPath id=\"clip751\">\n",
       "    <rect x=\"800\" y=\"0\" width=\"2801\" height=\"800\"/>\n",
       "  </clipPath>\n",
       "</defs>\n",
       "<path clip-path=\"url(#clip750)\" d=\"\n",
       "M47.2441 716.627 L3552.76 716.627 L3552.76 83.3731 L47.2441 83.3731  Z\n",
       "  \" fill=\"#ffffff\" fill-rule=\"evenodd\" fill-opacity=\"1\"/>\n",
       "<defs>\n",
       "  <clipPath id=\"clip752\">\n",
       "    <rect x=\"47\" y=\"83\" width=\"3507\" height=\"634\"/>\n",
       "  </clipPath>\n",
       "</defs>\n",
       "<g clip-path=\"url(#clip752)\">\n",
       "<image width=\"3506\" height=\"98\" xlink:href=\"data:image/png;base64,\n",
       "iVBORw0KGgoAAAANSUhEUgAADbIAAABiCAYAAAA/IMRAAAAJPElEQVR4nO3dMatUVxQF4DthiIRY\n",
       "WMZCiKZIqldqkyqgvZXYGQiCVkIKf4NFwEpBArETK3tt02j5uhTRgIUpLQzhhQeTPyAWh7Pmzd7z\n",
       "ff3mnsvMYS8GFrNalvVmAQAAAAAAAAAAAAAAAICQz076AAAAAAAAAAAAAAAAAAD0psgGAAAAAAAA\n",
       "AAAAAAAAQJQiGwAAAAAAAAAAAAAAAABRimwAAAAAAAAAAAAAAAAARCmyAQAAAAAAAAAAAAAAABCl\n",
       "yAYAAAAAAAAAAAAAAABAlCIbAAAAAAAAAAAAAAAAAFGKbAAAAAAAAAAAAAAAAABEKbIBAAAAAAAA\n",
       "AAAAAAAAEKXIBgAAAAAAAAAAAAAAAECUIhsAAAAAAAAAAAAAAAAAUYpsAAAAAAAAAAAAAAAAAEQp\n",
       "sgEAAAAAAAAAAAAAAAAQtT6Jh147c2to7tXxn0NzF9ffDM09ff9waI7a3l4/GJo79+Rw8kl6eHHp\n",
       "6tDcr398NTT307d/D81dfvlsaI7ajl6N3ffvfhj7ftpHc905e3to7v67B5NPwqjumbD7+1GbzDuX\n",
       "zMsu23bmXRY7aTa5t7bumbD7+1GbzDuXzMuu81tvbTJvbd0zYff3ozaZdz65l10m89Ym89bWPRN2\n",
       "fz/qk3vnknnZZTJvbTJvbdvOhP6RDQAAAAAAAAAAAAAAAIAoRTYAAAAAAAAAAAAAAAAAohTZAAAA\n",
       "AAAAAAAAAAAAAIhSZAMAAAAAAAAAAAAAAAAgSpENAAAAAAAAAAAAAAAAgChFNgAAAAAAAAAAAAAA\n",
       "AACiFNkAAAAAAAAAAAAAAAAAiFJkAwAAAAAAAAAAAAAAACBKkQ0AAAAAAAAAAAAAAACAKEU2AAAA\n",
       "AAAAAAAAAAAAAKIU2QAAAAAAAAAAAAAAAACIUmQDAAAAAAAAAAAAAAAAIEqRDQAAAAAAAAAAAAAA\n",
       "AICo1bKsN6PD9y7cHJq7+/rR6CO3qvv7dff2+sHQ3Lknh5NP0sPRL58PzZ36+b/JJ8no/n7dHW8e\n",
       "D82tVzemniOl+z66c/b20Nz9dw8mn4RR3b+j3XdE98+vO5l3ru73vfv7ddc98y5L/50k99bW/fvZ\n",
       "fUd0//y6k3nn6n7fu7/fPuiee7vvJJm3tu7fz+47ovvn153MO1/3O9/9/bqTeT+uyk6SeWvr/v3s\n",
       "vh+6f377QO6dq/ud7/5+3cm8H1dlJ8m8tVX5fvpHNgAAAAAAAAAAAAAAAACiFNkAAAAAAAAAAAAA\n",
       "AAAAiFJkAwAAAAAAAAAAAAAAACBKkQ0AAAAAAAAAAAAAAACAKEU2AAAAAAAAAAAAAAAAAKIU2QAA\n",
       "AAAAAAAAAAAAAACIUmQDAAAAAAAAAAAAAAAAIEqRDQAAAAAAAAAAAAAAAIAoRTYAAAAAAAAAAAAA\n",
       "AAAAohTZAAAAAAAAAAAAAAAAAIhSZAMAAAAAAAAAAAAAAAAgSpENAAAAAAAAAAAAAAAAgChFNgAA\n",
       "AAAAAAAAAAAAAACiVsuy3pz0IeBT3l4/GJo79+Rw8kmANPe9tjtnbw/N3X/3YPJJAOqxA2F/uO/1\n",
       "yb0AY+xA2C/ufG0yL8AY+w/2iztfm8wLMM4OhP3hvtcm87LL/CMbAAAAAAAAAAAAAAAAAFGKbAAA\n",
       "AAAAAAAAAAAAAABEKbIBAAAAAAAAAAAAAAAAEKXIBgAAAAAAAAAAAAAAAECUIhsAAAAAAAAAAAAA\n",
       "AAAAUYpsAAAAAAAAAAAAAAAAAEQpsgEAAAAAAAAAAAAAAAAQpcgGAAAAAAAAAAAAAAAAQJQiGwAA\n",
       "AAAAAAAAAAAAAABRimwAAAAAAAAAAAAAAAAARCmyAQAAAAAAAAAAAAAAABClyAYAAAAAAAAAAAAA\n",
       "AABAlCIbAAAAAAAAAAAAAAAAAFGrZVlvtv3QF5euDs1dfvmsxPOo7d6Fm0Nzd18/mnySHo43j4fm\n",
       "1qsbJZ5HbUevDobmTl08HJqzj+b6/osfh+Z+//e3ySdhVPdM2P151CbzziXzssu2nXmXxU6aTe6t\n",
       "rXsm7P48apN555J52XV+661N5q2teybs/jxqk3nnk3vZZTJvbTJvbd0zYffnUZ/cO5fMyy6TeWuT\n",
       "eWvb9n3wj2wAAAAAAAAAAAAAAAAARCmyAQAAAAAAAAAAAAAAABClyAYAAAAAAAAAAAAAAABAlCIb\n",
       "AAAAAAAAAAAAAAAAAFGKbAAAAAAAAAAAAAAAAABEKbIBAAAAAAAAAAAAAAAAEKXIBgAAAAAAAAAA\n",
       "AAAAAECUIhsAAAAAAAAAAAAAAAAAUYpsAAAAAAAAAAAAAAAAAEQpsgEAAAAAAAAAAAAAAAAQpcgG\n",
       "AAAAAAAAAAAAAAAAQJQiGwAAAAAAAAAAAAAAAABRimwAAAAAAAAAAAAAAAAARK2WZb056UNAwrUz\n",
       "t4bmnr5/OPkkQJr7Xtv501eG5t58eD75JAD12IGwP9z3+uRegDF2IOwXd742mRdgjP0H+8Wdr03m\n",
       "BRhnB8L+cN9rk3nZBv/IBgAAAAAAAAAAAAAAAECUIhsAAAAAAAAAAAAAAAAAUYpsAAAAAAAAAAAA\n",
       "AAAAAEQpsgEAAAAAAAAAAAAAAAAQpcgGAAAAAAAAAAAAAAAAQJQiGwAAAAAAAAAAAAAAAABRimwA\n",
       "AAAAAAAAAAAAAAAARCmyAQAAAAAAAAAAAAAAABClyAYAAAAAAAAAAAAAAABAlCIbAAAAAAAAAAAA\n",
       "AAAAAFGKbAAAAAAAAAAAAAAAAABEKbIBAAAAAAAAAAAAAAAAEKXIBgAAAAAAAAAAAAAAAEDUalnW\n",
       "m5M+BHzK+dNXhubefHg++SRAmvte25envh6a++for6nnAKjIDoT94b7XJ/cCjLEDYb+487XJvABj\n",
       "7D/YL+58bTIvwDg7EPaH+16bzMsu849sAAAAAAAAAAAAAAAAAEQpsgEAAAAAAAAAAAAAAAAQpcgG\n",
       "AAAAAAAAAAAAAAAAQJQiGwAAAAAAAAAAAAAAAABRimwAAAAAAAAAAAAAAAAARCmyAQAAAAAAAAAA\n",
       "AAAAABClyAYAAAAAAAAAAAAAAABAlCIbAAAAAAAAAAAAAAAAAFGKbAAAAAAAAAAAAAAAAABEKbIB\n",
       "AAAAAAAAAAAAAAAAEKXIBgAAAAAAAAAAAAAAAECUIhsAAAAAAAAAAAAAAAAAUYpsAAAAAAAAAAAA\n",
       "AAAAAET9D3WjNmQ8T3mIAAAAAElFTkSuQmCC\n",
       "\" transform=\"translate(47, 351)\"/>\n",
       "</g>\n",
       "<defs>\n",
       "  <clipPath id=\"clip753\">\n",
       "    <rect x=\"3632\" y=\"83\" width=\"121\" height=\"634\"/>\n",
       "  </clipPath>\n",
       "</defs>\n",
       "<g clip-path=\"url(#clip753)\">\n",
       "<image width=\"120\" height=\"633\" xlink:href=\"data:image/png;base64,\n",
       "iVBORw0KGgoAAAANSUhEUgAAAHgAAAJ5CAYAAABlp/ReAAAHIklEQVR4nO3dgY3cMAwAQTlg/1Wk\n",
       "y/yLqcIwsJip4ABiL5Ts+zw/9+8esv58/QF4lwHHzd2frz8DL1Jw3Oz+fv0ZeJGC4ww4zpIVp+C4\n",
       "WQWnKTjOgONmr6/oMgXHWbLiFBxnwHG+ouMUHOeYFKfgOAOOm2PJSlNwnGNSnILjDDhujnNwmoLj\n",
       "5tx/X38GXqTgOAOOc5MVp+A4x6Q4BccZcJyv6DgFxzkmxSk4zoDj5rFkpSk4bs71d7LKFBzn3+A4\n",
       "BccZcJwlK07BcZ4mxSk4zoDj5rFkpSk4zgP/OAXHGXCcJStOwXHuouMUHGfAcZasOAXHWbLiFBxn\n",
       "wHGWrDgFx8259+vPwIsUHGfAcZasOAXHucmKU3CcAcf5io5TcNw8brLSFBxnwHGWrDgFx3lcGKfg\n",
       "OAOOcw6OU3CcY1KcguMck+IUHGfAcb6i4xQc573oOAXHGXCcJStOwXEKjlNwnAHH+YqOU3CcguMU\n",
       "HGfAcXPWV3SZguMsWXEKjjPgOF/RcQqOU3CcguMMOG7O3a8/Ay9ScJwlK07BcQYcZ8mKU3CcJStO\n",
       "wXEGHGfJilNw3Bw7VpqC4+asf4PLFBxnwHGWrDgFxyk4TsFxBhw3fh7cpuA4S1acguMMOM5XdJyC\n",
       "4+bc5+vPwIsUHGfAcbPrK7pMwXGOSXEKjjPgOOfgOAXHzV4zLjPdOAOOs2TFKThujrvoNAXHGXDc\n",
       "rCUrTcFxc9xkpZlunAHHWbLiFBznJitOwXEGHOeNjjjTjfPAP07BcS464hQcZ8Bxs2vGZaYb55gU\n",
       "p+A4A45zDo5TcNwcx6Q0040z4DhLVpyC4xQcp+A4A47z4nucguO8Fx1nunEGHOf/bIhTcJybrDgF\n",
       "xxlwnL+TFWe6cY5JcQqOM+A45+A4BcdZsuIUHGfAcd7oiDPdOEtWnILjDDjOTVacguMsWXEKjvOX\n",
       "7uIUHGfAcf6ccJzpxjkmxSk4zoDj3EXHKTjOkhWn4DgDjpvrKzpNwXHei44z3TgDjnMOjlNwnILj\n",
       "FBxnwHEeF8YpOM6SFafgOAOO8xUdp+A4P12JM904A46b6yYrTcFxjklxCo4z4Dhf0XEKjlNwnILj\n",
       "/PgsTsFxBhxnyYpTcJyC4xQcZ8Bx3smKM904r+zEKTjOgOOcg+MUHKfgOAXHGXCcNzriFBxnyYpT\n",
       "cJwBx80eX9FlCo5zTIpTcJwBxzkHxyk4zpIVp+A4A46zZMUpOM6SFafgOAOOs2TFKThOwXEKjjPg\n",
       "uLneyUpTcJwlK07Bce6i4xQcZ8Bxs/v1R+BNCo6zZMUpOM6A4/w+OE7BcZasOAXHGXCcx4VxCo7z\n",
       "yk6cguMMOM7jwjgFx7nJilNwnAHHucmKU3Ccm6w4BccZcJxzcJyC49xFxyk4zoDjnIPjFBznLjpO\n",
       "wXEGHDf360/AqxQcZ8mKU3CcAcd5XBin4DjHpDgFxzkmxSk4zoDjLFlxCo6zZMUpOM6A49xFxyk4\n",
       "bvxypU3BcQYcZ8mKU3Ccu+g4BccZcJyHDXEKjrNkxSk4zoDjLFlxCo6b63lhmoLjDDjOOThOwXGO\n",
       "SXEKjjPgOEtWnILj/J8NcQqOM+A4/2dDnILjPC6MU3Cc3wfHKTjOgOP8PjhOwXHuouMUHGfAcR74\n",
       "xyk4zluVcQqOM+A4S1acguM88I9TcJwBx3mjI07BcZasOAXHGXCcNzriFBznx2dxCo4z4Djn4DgF\n",
       "x7mLjlNwnAHHWbLiFBxnyYpTcJwBx1my4hQcp+A4BccZcJxzcJyC4yxZcQqO829wnILjDDjOkhWn\n",
       "4Dg/PotTcJwBx/lLd3EKjnNMilNwnAHHzR7f0WUKjrNkxSk4zoDjPGyIU3Ccu+g4BccZcJxzcJyC\n",
       "49xFxyk4zoDjLFlxCo7z68I4BccZcNxczwvTFBzncWGcguMMOG7WkpWm4DhLVpyC4ww4zk1WnILj\n",
       "PC6MU3DcXG9Vpik4zoDjHJPiFBznpytxCo4z4DiPC+MUHOcmK07BcQYc5xwcp+C4ucdBqUzBcQYc\n",
       "5xwcp+A4BccpOM6A49xkxSk4zk1WnILjDDhu7mPJKlNwnCUrTsFxBhw36ys6TcFxlqw4BccZcNzc\n",
       "x1d0mYLjLFlxCo5z0RGn4DgDjrNkxSk4TsFxCo4z4Dh30XEKjps9v19/Bl6k4DgDjnMOjlNwnMeF\n",
       "cQqOM+C4uescXKbgOEtWnILjDDhurocNaQqOs2TFKTjOgOMsWXEKjptdS1aZguMMOM45OE7BcR74\n",
       "xyk4zoDjLFlxCo6btWSlKTjOgOMsWXEKjpvrcWGaguP8EZY4BccZcJx3suIUHOeiI07BcQYcZ8mK\n",
       "U3CcguMUHGfAcR42xCk4zpIVp+A4A46b42FDmoLjLFlxCo4z4DhvdMQpOG6OJStNwXEGHOdxYZyC\n",
       "49xFxyk4zoDjnIPjFBw3e/brz8CLFBxnwHHOwXEKjptjyUpTcNx/hWvoAQpASOkAAAAASUVORK5C\n",
       "YII=\n",
       "\" transform=\"translate(3633, 83)\"/>\n",
       "</g>\n",
       "<path clip-path=\"url(#clip750)\" d=\"M 0 0 M3824.7 698.797 Q3821.09 698.797 3819.26 702.362 Q3817.45 705.903 3817.45 713.033 Q3817.45 720.139 3819.26 723.704 Q3821.09 727.246 3824.7 727.246 Q3828.33 727.246 3830.14 723.704 Q3831.97 720.139 3831.97 713.033 Q3831.97 705.903 3830.14 702.362 Q3828.33 698.797 3824.7 698.797 M3824.7 695.093 Q3830.51 695.093 3833.57 699.7 Q3836.64 704.283 3836.64 713.033 Q3836.64 721.76 3833.57 726.366 Q3830.51 730.949 3824.7 730.949 Q3818.89 730.949 3815.81 726.366 Q3812.76 721.76 3812.76 713.033 Q3812.76 704.283 3815.81 699.7 Q3818.89 695.093 3824.7 695.093 Z\" fill=\"#000000\" fill-rule=\"evenodd\" fill-opacity=\"1\" /><path clip-path=\"url(#clip750)\" d=\"M 0 0 M3813.43 647.186 L3821.07 647.186 L3821.07 620.821 L3812.76 622.487 L3812.76 618.228 L3821.02 616.561 L3825.7 616.561 L3825.7 647.186 L3833.33 647.186 L3833.33 651.121 L3813.43 651.121 L3813.43 647.186 Z\" fill=\"#000000\" fill-rule=\"evenodd\" fill-opacity=\"1\" /><path clip-path=\"url(#clip750)\" d=\"M 0 0 M3818.38 568.029 L3834.7 568.029 L3834.7 571.965 L3812.76 571.965 L3812.76 568.029 Q3815.42 565.275 3820 560.645 Q3824.61 555.992 3825.79 554.65 Q3828.03 552.127 3828.91 550.391 Q3829.82 548.631 3829.82 546.942 Q3829.82 544.187 3827.87 542.451 Q3825.95 540.715 3822.85 540.715 Q3820.65 540.715 3818.2 541.479 Q3815.77 542.243 3812.99 543.793 L3812.99 539.071 Q3815.81 537.937 3818.27 537.358 Q3820.72 536.78 3822.76 536.78 Q3828.13 536.78 3831.32 539.465 Q3834.52 542.15 3834.52 546.641 Q3834.52 548.77 3833.7 550.692 Q3832.92 552.59 3830.81 555.182 Q3830.23 555.854 3827.13 559.071 Q3824.03 562.266 3818.38 568.029 Z\" fill=\"#000000\" fill-rule=\"evenodd\" fill-opacity=\"1\" /><path clip-path=\"url(#clip750)\" d=\"M 0 0 M3828.38 474.174 Q3831.74 474.891 3833.61 477.16 Q3835.51 479.428 3835.51 482.762 Q3835.51 487.877 3831.99 490.678 Q3828.47 493.479 3821.99 493.479 Q3819.82 493.479 3817.5 493.039 Q3815.21 492.623 3812.76 491.766 L3812.76 487.252 Q3814.7 488.387 3817.02 488.965 Q3819.33 489.544 3821.85 489.544 Q3826.25 489.544 3828.54 487.808 Q3830.86 486.072 3830.86 482.762 Q3830.86 479.706 3828.7 477.993 Q3826.58 476.257 3822.76 476.257 L3818.73 476.257 L3818.73 472.415 L3822.94 472.415 Q3826.39 472.415 3828.22 471.049 Q3830.05 469.66 3830.05 467.067 Q3830.05 464.405 3828.15 462.993 Q3826.27 461.558 3822.76 461.558 Q3820.83 461.558 3818.64 461.975 Q3816.44 462.391 3813.8 463.271 L3813.8 459.104 Q3816.46 458.364 3818.77 457.993 Q3821.11 457.623 3823.17 457.623 Q3828.5 457.623 3831.6 460.053 Q3834.7 462.461 3834.7 466.581 Q3834.7 469.452 3833.06 471.442 Q3831.41 473.41 3828.38 474.174 Z\" fill=\"#000000\" fill-rule=\"evenodd\" fill-opacity=\"1\" /><path clip-path=\"url(#clip750)\" d=\"M 0 0 M3828.36 383.165 L3816.55 401.614 L3828.36 401.614 L3828.36 383.165 M3827.13 379.091 L3833.01 379.091 L3833.01 401.614 L3837.94 401.614 L3837.94 405.503 L3833.01 405.503 L3833.01 413.651 L3828.36 413.651 L3828.36 405.503 L3812.76 405.503 L3812.76 400.989 L3827.13 379.091 Z\" fill=\"#000000\" fill-rule=\"evenodd\" fill-opacity=\"1\" /><path clip-path=\"url(#clip750)\" d=\"M 0 0 M3814.21 299.934 L3832.57 299.934 L3832.57 303.87 L3818.5 303.87 L3818.5 312.342 Q3819.52 311.995 3820.53 311.833 Q3821.55 311.647 3822.57 311.647 Q3828.36 311.647 3831.74 314.819 Q3835.12 317.99 3835.12 323.407 Q3835.12 328.985 3831.64 332.087 Q3828.17 335.166 3821.85 335.166 Q3819.68 335.166 3817.41 334.795 Q3815.16 334.425 3812.76 333.684 L3812.76 328.985 Q3814.84 330.12 3817.06 330.675 Q3819.28 331.231 3821.76 331.231 Q3825.77 331.231 3828.1 329.124 Q3830.44 327.018 3830.44 323.407 Q3830.44 319.795 3828.1 317.689 Q3825.77 315.583 3821.76 315.583 Q3819.89 315.583 3818.01 315.999 Q3816.16 316.416 3814.21 317.295 L3814.21 299.934 Z\" fill=\"#000000\" fill-rule=\"evenodd\" fill-opacity=\"1\" /><path clip-path=\"url(#clip750)\" d=\"M 0 0 M3825.09 236.194 Q3821.95 236.194 3820.09 238.347 Q3818.27 240.5 3818.27 244.25 Q3818.27 247.977 3820.09 250.153 Q3821.95 252.305 3825.09 252.305 Q3828.24 252.305 3830.07 250.153 Q3831.92 247.977 3831.92 244.25 Q3831.92 240.5 3830.07 238.347 Q3828.24 236.194 3825.09 236.194 M3834.38 221.542 L3834.38 225.801 Q3832.62 224.968 3830.81 224.528 Q3829.03 224.088 3827.27 224.088 Q3822.64 224.088 3820.19 227.213 Q3817.76 230.338 3817.41 236.657 Q3818.77 234.643 3820.83 233.579 Q3822.89 232.491 3825.37 232.491 Q3830.58 232.491 3833.59 235.662 Q3836.62 238.81 3836.62 244.25 Q3836.62 249.574 3833.47 252.791 Q3830.33 256.009 3825.09 256.009 Q3819.1 256.009 3815.93 251.426 Q3812.76 246.819 3812.76 238.092 Q3812.76 229.898 3816.64 225.037 Q3820.53 220.153 3827.08 220.153 Q3828.84 220.153 3830.63 220.5 Q3832.43 220.847 3834.38 221.542 Z\" fill=\"#000000\" fill-rule=\"evenodd\" fill-opacity=\"1\" /><path clip-path=\"url(#clip750)\" d=\"M 0 0 M3812.76 141.621 L3834.98 141.621 L3834.98 143.612 L3822.43 176.181 L3817.55 176.181 L3829.35 145.556 L3812.76 145.556 L3812.76 141.621 Z\" fill=\"#000000\" fill-rule=\"evenodd\" fill-opacity=\"1\" /><path clip-path=\"url(#clip750)\" d=\"M 0 0 M3824.61 80.6124 Q3821.27 80.6124 3819.35 82.3948 Q3817.45 84.1772 3817.45 87.3022 Q3817.45 90.4271 3819.35 92.2095 Q3821.27 93.9919 3824.61 93.9919 Q3827.94 93.9919 3829.86 92.2095 Q3831.78 90.404 3831.78 87.3022 Q3831.78 84.1772 3829.86 82.3948 Q3827.96 80.6124 3824.61 80.6124 M3819.93 78.6216 Q3816.92 77.8809 3815.23 75.8207 Q3813.57 73.7606 3813.57 70.7976 Q3813.57 66.6541 3816.51 64.2467 Q3819.47 61.8393 3824.61 61.8393 Q3829.77 61.8393 3832.71 64.2467 Q3835.65 66.6541 3835.65 70.7976 Q3835.65 73.7606 3833.96 75.8207 Q3832.29 77.8809 3829.31 78.6216 Q3832.69 79.4087 3834.56 81.7003 Q3836.46 83.992 3836.46 87.3022 Q3836.46 92.3253 3833.38 95.0104 Q3830.33 97.6956 3824.61 97.6956 Q3818.89 97.6956 3815.81 95.0104 Q3812.76 92.3253 3812.76 87.3022 Q3812.76 83.992 3814.65 81.7003 Q3816.55 79.4087 3819.93 78.6216 M3818.22 71.2374 Q3818.22 73.9226 3819.89 75.4272 Q3821.58 76.9318 3824.61 76.9318 Q3827.62 76.9318 3829.31 75.4272 Q3831.02 73.9226 3831.02 71.2374 Q3831.02 68.5523 3829.31 67.0476 Q3827.62 65.543 3824.61 65.543 Q3821.58 65.543 3819.89 67.0476 Q3818.22 68.5523 3818.22 71.2374 Z\" fill=\"#000000\" fill-rule=\"evenodd\" fill-opacity=\"1\" /><polyline clip-path=\"url(#clip750)\" style=\"stroke:#000000; stroke-width:4; stroke-opacity:1; fill:none\" points=\"\n",
       "  3752.76,716.627 3752.76,716.627 3792.76,716.627 3752.76,716.627 3752.76,637.47 3792.76,637.47 3752.76,637.47 3752.76,558.313 3792.76,558.313 3752.76,558.313 \n",
       "  3752.76,479.157 3792.76,479.157 3752.76,479.157 3752.76,400 3792.76,400 3752.76,400 3752.76,320.843 3792.76,320.843 3752.76,320.843 3752.76,241.687 \n",
       "  3792.76,241.687 3752.76,241.687 3752.76,162.53 3792.76,162.53 3752.76,162.53 3752.76,83.3731 3792.76,83.3731 3752.76,83.3731 \n",
       "  \"/>\n",
       "</svg>\n"
      ]
     },
     "execution_count": 23,
     "metadata": {},
     "output_type": "execute_result"
    }
   ],
   "source": [
    "X, W, H = generate_toy_data();\n",
    "heatmap(X, aspect_ratio=:equal, size=(1000,200), showaxis=false, ticks=false)"
   ]
  },
  {
   "cell_type": "code",
   "execution_count": 60,
   "metadata": {},
   "outputs": [],
   "source": [
    "# Let's fit this data using a masked loss\n",
    "mask = ones(size(X))\n",
    "mask[:, 50:100] .= 0\n",
    "loss = MaskedLoss(SquareLoss(), mask)\n",
    "\n",
    "model = ConvolutionalFactorization(L=5, K=2, loss=loss)\n",
    "(Ŵ,Ĥ), cache, report = fit(model, X);\n",
    "est = tensor_conv(Ŵ,Ĥ)\n",
    "\n",
    "layout = @layout [a; b; c]\n",
    "p1 = heatmap(est, aspect_ratio=:equal, size=(1000,100), showaxis=false, ticks=false, colorbar=false,\n",
    "    title=\"Reconstruction\")\n",
    "p2 = heatmap(mask, aspect_ratio=:equal, size=(1000,100), showaxis=false, ticks=false, colorbar=false,\n",
    "    title=\"Mask\")\n",
    "p3 = heatmap(X, aspect_ratio=:equal, size=(1000,100), showaxis=false, ticks=false, colorbar=false,\n",
    "    title=\"True\")\n",
    "plot(p3, p2, p1, layout=layout, size=(1000,300))\n",
    "savefig(\"masked_loss_exampl.png\")"
   ]
  },
  {
   "cell_type": "code",
   "execution_count": 37,
   "metadata": {},
   "outputs": [
    {
     "name": "stdout",
     "output_type": "stream",
     "text": [
      "size(mask) = (7, 250)\n"
     ]
    },
    {
     "data": {
      "text/plain": [
       "(7, 250)"
      ]
     },
     "execution_count": 37,
     "metadata": {},
     "output_type": "execute_result"
    }
   ],
   "source": [
    "@show size(mask)"
   ]
  },
  {
   "cell_type": "code",
   "execution_count": null,
   "metadata": {},
   "outputs": [],
   "source": []
  }
 ],
 "metadata": {
  "kernelspec": {
   "display_name": "Julia 1.3.1",
   "language": "julia",
   "name": "julia-1.3"
  },
  "language_info": {
   "file_extension": ".jl",
   "mimetype": "application/julia",
   "name": "julia",
   "version": "1.3.1"
  }
 },
 "nbformat": 4,
 "nbformat_minor": 2
}
